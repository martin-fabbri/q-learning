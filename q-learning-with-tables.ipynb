{
 "cells": [
  {
   "cell_type": "markdown",
   "source": [
    "# Q-Learning"
   ],
   "metadata": {
    "collapsed": false,
    "pycharm": {
     "name": "#%% md\n"
    }
   }
  },
  {
   "cell_type": "markdown",
   "source": [
    "## Imports"
   ],
   "metadata": {
    "collapsed": false
   }
  },
  {
   "cell_type": "code",
   "execution_count": 14,
   "metadata": {
    "collapsed": true,
    "pycharm": {
     "is_executing": false
    }
   },
   "outputs": [],
   "source": [
    "import random\n",
    "from collections import defaultdict, namedtuple\n",
    "from itertools import product, starmap\n",
    "\n",
    "import gym\n",
    "import numpy as np\n",
    "import matplotlib\n",
    "import matplotlib.pyplot as plt\n",
    "import seaborn as sns\n",
    "from IPython.display import Image\n",
    "from scipy import stats\n",
    "%matplotlib inline\n",
    "sns.set()\n",
    "states_colors = matplotlib.colors.ListedColormap(['#9A9A9A', '#D886BA', '#4D314A', '#6E9183'])\n",
    "cmap_default = 'Blues'\n",
    "cpal_default = sns.color_palette(('Blues_d'))\n",
    "\n",
    "sns.set_style('white')\n",
    "sns.set_context('poster')\n",
    "random.seed(1)"
   ]
  },
  {
   "cell_type": "markdown",
   "source": [
    "## Grid World 4x12\n",
    "\n",
    "The Agent has to deal with an environment consisting of 4 x 12 squares, representing all of \n",
    "its possible states. The mechanics of this world are defined bya small set of rules:\n",
    "\n",
    "1. "
   ],
   "metadata": {
    "collapsed": false,
    "pycharm": {
     "name": "#%% md\n"
    }
   }
  },
  {
   "cell_type": "markdown",
   "source": [],
   "metadata": {
    "collapsed": false,
    "pycharm": {
     "name": "#%% md\n"
    }
   }
  },
  {
   "cell_type": "code",
   "execution_count": 15,
   "outputs": [],
   "source": [],
   "metadata": {
    "collapsed": false,
    "pycharm": {
     "name": "#%%\n",
     "is_executing": false
    }
   }
  },
  {
   "cell_type": "markdown",
   "source": [
    "Implement Q-Table learning algorithm"
   ],
   "metadata": {
    "collapsed": false,
    "pycharm": {
     "name": "#%% md\n"
    }
   }
  },
  {
   "cell_type": "code",
   "execution_count": 16,
   "outputs": [],
   "source": [
    "# Initialize table with all zeros\n",
    "Q = np.zeros([env.observation_space.n, env.action_space.n])\n",
    "\n",
    "# set learning parameters\n",
    "lr = .8\n",
    "y = .95\n",
    "num_episodes = 2000\n",
    "\n",
    "# create list to contain total rewards and steps por episode\n",
    "rList = []\n",
    "\n",
    "for i in range(num_episodes):\n",
    "    # reset environment and get first new observation\n",
    "    s = env.reset()\n",
    "    rAll = 0\n",
    "    d = False\n",
    "    j = 0\n",
    "    \n",
    "    # the Q-table learning algorithm\n",
    "    while j < 99:\n",
    "        j += 1\n",
    "        # choose an action by greedily (with noise) picking from Q table\n",
    "        a = np.argmax(Q[s, :] + np.random.randn(1, env.action_space.n) * (1./(i+1)))\n",
    "        # get new state and reward from environment\n",
    "        s1, r, d, _ = env.step(a)\n",
    "        # update q-table with new knowledge\n",
    "        Q[s, a] = Q[s, a] + lr * (r + y * np.max(Q[s1,:]) - Q[s, a])\n",
    "        rAll += r\n",
    "        s = s1\n",
    "        if d:\n",
    "            break\n",
    "    rList.append(rAll)\n",
    "    "
   ],
   "metadata": {
    "collapsed": false,
    "pycharm": {
     "name": "#%%\n",
     "is_executing": false
    }
   }
  },
  {
   "cell_type": "code",
   "execution_count": 17,
   "outputs": [
    {
     "name": "stdout",
     "text": [
      "Score over time:  0.463\n"
     ],
     "output_type": "stream"
    }
   ],
   "source": [
    "print('Score over time: ', str(sum(rList)/num_episodes))\n"
   ],
   "metadata": {
    "collapsed": false,
    "pycharm": {
     "name": "#%%\n",
     "is_executing": false
    }
   }
  },
  {
   "cell_type": "code",
   "execution_count": 18,
   "outputs": [
    {
     "name": "stdout",
     "text": [
      "Final Q-Table Values [[9.77705378e-02 8.05737313e-03 7.92383733e-03 8.27396692e-03]\n [2.58483388e-03 3.68103495e-04 1.26244933e-03 7.25962326e-02]\n [1.19547998e-01 2.53210566e-03 3.34234510e-03 4.59599583e-03]\n [4.84440713e-04 1.81243732e-03 1.23000740e-03 5.07344342e-03]\n [2.37452714e-01 2.20345406e-03 1.79642482e-04 2.03113243e-03]\n [0.00000000e+00 0.00000000e+00 0.00000000e+00 0.00000000e+00]\n [9.33852461e-02 2.13114690e-05 4.44523970e-04 1.89780326e-06]\n [0.00000000e+00 0.00000000e+00 0.00000000e+00 0.00000000e+00]\n [8.51184619e-04 1.62865462e-03 1.91082407e-03 4.40775031e-01]\n [7.51907316e-04 2.34704437e-01 1.30922531e-03 0.00000000e+00]\n [1.01648858e-01 0.00000000e+00 6.72713559e-04 2.87463787e-05]\n [0.00000000e+00 0.00000000e+00 0.00000000e+00 0.00000000e+00]\n [0.00000000e+00 0.00000000e+00 0.00000000e+00 0.00000000e+00]\n [2.27722758e-03 1.28132313e-03 3.89777075e-01 4.17534533e-03]\n [0.00000000e+00 0.00000000e+00 0.00000000e+00 9.93853927e-01]\n [0.00000000e+00 0.00000000e+00 0.00000000e+00 0.00000000e+00]]\n"
     ],
     "output_type": "stream"
    }
   ],
   "source": [
    "print('Final Q-Table Values', Q)"
   ],
   "metadata": {
    "collapsed": false,
    "pycharm": {
     "name": "#%%\n",
     "is_executing": false
    }
   }
  },
  {
   "cell_type": "code",
   "execution_count": 18,
   "outputs": [],
   "source": [],
   "metadata": {
    "collapsed": false,
    "pycharm": {
     "name": "#%%\n",
     "is_executing": false
    }
   }
  },
  {
   "cell_type": "code",
   "execution_count": 18,
   "outputs": [],
   "source": [],
   "metadata": {
    "collapsed": false,
    "pycharm": {
     "name": "#%%\n",
     "is_executing": false
    }
   }
  },
  {
   "cell_type": "code",
   "execution_count": 18,
   "outputs": [],
   "source": [],
   "metadata": {
    "collapsed": false,
    "pycharm": {
     "name": "#%%\n",
     "is_executing": false
    }
   }
  },
  {
   "cell_type": "code",
   "execution_count": 18,
   "outputs": [],
   "source": [
    "\n",
    "\n",
    "\n",
    "\n"
   ],
   "metadata": {
    "collapsed": false,
    "pycharm": {
     "name": "#%%\n",
     "is_executing": false
    }
   }
  }
 ],
 "metadata": {
  "kernelspec": {
   "display_name": "Python 3",
   "language": "python",
   "name": "python3"
  },
  "language_info": {
   "codemirror_mode": {
    "name": "ipython",
    "version": 2
   },
   "file_extension": ".py",
   "mimetype": "text/x-python",
   "name": "python",
   "nbconvert_exporter": "python",
   "pygments_lexer": "ipython2",
   "version": "2.7.6"
  },
  "pycharm": {
   "stem_cell": {
    "cell_type": "raw",
    "source": [],
    "metadata": {
     "collapsed": false
    }
   }
  }
 },
 "nbformat": 4,
 "nbformat_minor": 0
}